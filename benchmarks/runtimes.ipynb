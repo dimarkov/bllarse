{
 "cells": [
  {
   "cell_type": "code",
   "execution_count": 1,
   "id": "48c4456d",
   "metadata": {},
   "outputs": [],
   "source": [
    "import jax\n",
    "jax.config.update('jax_cuda_visible_devices', '0')\n",
    "\n",
    "import jax.numpy as jnp\n",
    "import jax.random as jr\n",
    "import equinox as eqx\n",
    "from bllarse.losses.bayesian import IBProbit, IBPolyaGamma, MultinomialPolyaGamma\n",
    "\n",
    "\n",
    "def generate_data(key, n_samples, n_features, n_classes):\n",
    "    \"\"\"Generate synthetic data for multinomial logistic regression.\"\"\"\n",
    "    key, subkey = jr.split(key)\n",
    "    params = jr.normal(subkey, (n_features + 1, n_classes))\n",
    "    W = params[:-1]\n",
    "    b = params[-1]\n",
    "    \n",
    "    key, subkey = jr.split(key)\n",
    "    X = jr.normal(subkey, (n_samples, n_features))\n",
    "    \n",
    "    logits = X @ W + b\n",
    "    probs = jax.nn.softmax(logits, axis=-1)\n",
    "    \n",
    "    key, subkey = jr.split(key)\n",
    "    y = jr.categorical(subkey, logits=logits, axis=-1)\n",
    "    \n",
    "    return X, y.astype(jnp.float32), probs, (W, b)\n"
   ]
  },
  {
   "cell_type": "code",
   "execution_count": 2,
   "id": "cba96707",
   "metadata": {},
   "outputs": [
    {
     "name": "stdout",
     "output_type": "stream",
     "text": [
      "num_classes = 10 ; IBProbit\n",
      "6.12 ms ± 15.6 μs per loop (mean ± std. dev. of 7 runs, 100 loops each)\n",
      "num_classes = 10 ; IBPG\n",
      "3.89 s ± 10.4 ms per loop (mean ± std. dev. of 7 runs, 1 loop each)\n",
      "num_classes = 10 ; MPG\n",
      "3.64 s ± 6.65 ms per loop (mean ± std. dev. of 7 runs, 1 loop each)\n",
      "num_classes = 30 ; IBProbit\n",
      "6.93 ms ± 38.3 μs per loop (mean ± std. dev. of 7 runs, 100 loops each)\n",
      "num_classes = 30 ; IBPG\n",
      "9.57 s ± 6.41 ms per loop (mean ± std. dev. of 7 runs, 1 loop each)\n",
      "num_classes = 30 ; MPG\n",
      "9.28 s ± 909 μs per loop (mean ± std. dev. of 7 runs, 1 loop each)\n"
     ]
    }
   ],
   "source": [
    "n_samples = 1024\n",
    "n_features = 768\n",
    "n_classes_range = jnp.arange(10, 31, 20)\n",
    "key = jr.PRNGKey(0)\n",
    "\n",
    "for n_classes in n_classes_range:\n",
    "    X, y, *_ = generate_data(key, n_samples, n_features, n_classes)\n",
    "    \n",
    "    ib_probit = IBProbit(n_features, n_classes, key=key)\n",
    "    ib_pg = IBPolyaGamma(n_features, n_classes, key=key)\n",
    "    mpg = MultinomialPolyaGamma(n_features, n_classes, key=key)\n",
    "\n",
    "    func = eqx.filter_jit(ib_probit.update)\n",
    "    func(X, y, num_iters=128)\n",
    "    print('num_classes =', n_classes, \"; IBProbit\")\n",
    "    %timeit jax.block_until_ready(func(X, y, num_iters=128).eta)\n",
    "\n",
    "    func = eqx.filter_jit(ib_pg.update)\n",
    "    func(X, y)\n",
    "    print('num_classes =', n_classes, \"; IBPG\")\n",
    "    %timeit jax.block_until_ready(func(X, y).mu)\n",
    "\n",
    "    func = eqx.filter_jit(mpg.update)\n",
    "    func(X, y)\n",
    "    print('num_classes =', n_classes, \"; MPG\")\n",
    "    %timeit jax.block_until_ready( func(X, y).mu )"
   ]
  },
  {
   "cell_type": "code",
   "execution_count": 2,
   "id": "c504996e",
   "metadata": {},
   "outputs": [
    {
     "name": "stdout",
     "output_type": "stream",
     "text": [
      "num_classes = 10 ; IBProbit\n",
      "6.12 ms ± 17.9 μs per loop (mean ± std. dev. of 7 runs, 100 loops each)\n",
      "num_classes = 30 ; IBProbit\n",
      "6.52 ms ± 17.5 μs per loop (mean ± std. dev. of 7 runs, 100 loops each)\n",
      "num_classes = 50 ; IBProbit\n",
      "7.07 ms ± 12.4 μs per loop (mean ± std. dev. of 7 runs, 100 loops each)\n",
      "num_classes = 70 ; IBProbit\n",
      "9.85 ms ± 35.5 μs per loop (mean ± std. dev. of 7 runs, 100 loops each)\n",
      "num_classes = 90 ; IBProbit\n",
      "10.2 ms ± 41.8 μs per loop (mean ± std. dev. of 7 runs, 100 loops each)\n"
     ]
    }
   ],
   "source": [
    "n_samples = 1024\n",
    "n_features = 768\n",
    "n_classes_range = jnp.arange(10, 101, 20)\n",
    "key = jr.PRNGKey(0)\n",
    "\n",
    "for n_classes in n_classes_range:\n",
    "    X, y, *_ = generate_data(key, n_samples, n_features, n_classes)\n",
    "    \n",
    "    ib_probit = IBProbit(n_features, n_classes, key=key)\n",
    "\n",
    "    func = eqx.filter_jit(ib_probit.update)\n",
    "    func(X, y, num_iters=128)\n",
    "    print('num_classes =', n_classes, \"; IBProbit\")\n",
    "    %timeit jax.block_until_ready(func(X, y, num_iters=128).eta)"
   ]
  },
  {
   "cell_type": "code",
   "execution_count": null,
   "id": "17ebd81e",
   "metadata": {},
   "outputs": [],
   "source": []
  }
 ],
 "metadata": {
  "kernelspec": {
   "display_name": "bllarse",
   "language": "python",
   "name": "python3"
  },
  "language_info": {
   "codemirror_mode": {
    "name": "ipython",
    "version": 3
   },
   "file_extension": ".py",
   "mimetype": "text/x-python",
   "name": "python",
   "nbconvert_exporter": "python",
   "pygments_lexer": "ipython3",
   "version": "3.11.13"
  }
 },
 "nbformat": 4,
 "nbformat_minor": 5
}
